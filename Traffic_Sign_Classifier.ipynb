{
 "cells": [
  {
   "cell_type": "markdown",
   "metadata": {},
   "source": [
    "# Self-Driving Car Engineer Nanodegree\n",
    "\n",
    "## Deep Learning\n",
    "\n",
    "## Project: Build a Traffic Sign Recognition Classifier\n",
    "\n",
    "In this notebook, a template is provided for you to implement your functionality in stages, which is required to successfully complete this project. If additional code is required that cannot be included in the notebook, be sure that the Python code is successfully imported and included in your submission if necessary. \n",
    "\n",
    "> **Note**: Once you have completed all of the code implementations, you need to finalize your work by exporting the iPython Notebook as an HTML document. Before exporting the notebook to html, all of the code cells need to have been run so that reviewers can see the final implementation and output. You can then export the notebook by using the menu above and navigating to  \\n\",\n",
    "    \"**File -> Download as -> HTML (.html)**. Include the finished document along with this notebook as your submission. \n",
    "\n",
    "In addition to implementing code, there is a writeup to complete. The writeup should be completed in a separate file, which can be either a markdown file or a pdf document. There is a [write up template](https://github.com/udacity/CarND-Traffic-Sign-Classifier-Project/blob/master/writeup_template.md) that can be used to guide the writing process. Completing the code template and writeup template will cover all of the [rubric points](https://review.udacity.com/#!/rubrics/481/view) for this project.\n",
    "\n",
    "The [rubric](https://review.udacity.com/#!/rubrics/481/view) contains \"Stand Out Suggestions\" for enhancing the project beyond the minimum requirements. The stand out suggestions are optional. If you decide to pursue the \"stand out suggestions\", you can include the code in this Ipython notebook and also discuss the results in the writeup file.\n",
    "\n",
    "\n",
    ">**Note:** Code and Markdown cells can be executed using the **Shift + Enter** keyboard shortcut. In addition, Markdown cells can be edited by typically double-clicking the cell to enter edit mode."
   ]
  },
  {
   "cell_type": "markdown",
   "metadata": {},
   "source": [
    "---\n",
    "## Step 0: Load The Data"
   ]
  },
  {
   "cell_type": "code",
   "execution_count": 1,
   "metadata": {
    "collapsed": false
   },
   "outputs": [],
   "source": [
    "# Load the data and setup the datasets.\n",
    "import matplotlib.image as mpimg\n",
    "import numpy as np\n",
    "import os\n",
    "import os.path as path\n",
    "import pickle\n",
    "\n",
    "training_file = \"traffic-signs-data/train.p\"\n",
    "validation_file= \"traffic-signs-data/valid.p\"\n",
    "testing_file = \"traffic-signs-data/test.p\"\n",
    "\n",
    "# Load pickled data\n",
    "with open(training_file, mode='rb') as f:\n",
    "    train = pickle.load(f)\n",
    "with open(validation_file, mode='rb') as f:\n",
    "    valid = pickle.load(f)\n",
    "with open(testing_file, mode='rb') as f:\n",
    "    test = pickle.load(f)\n",
    "    \n",
    "X_train, y_train = train['features'], train['labels']\n",
    "X_valid, y_valid = valid['features'], valid['labels']\n",
    "X_test, y_test = test['features'], test['labels']\n",
    "\n",
    "# Setup the \"extra test set\"\n",
    "files = list(filter(lambda f: f.endswith(\".jpg\"),\n",
    "                    os.listdir(\"web-traffic-signs-processed\")))\n",
    "X_test_extra = np.empty([len(files), 32, 32, 3], dtype=np.uint8)\n",
    "for i in range(len(files)):\n",
    "    image_file = path.join(\"web-traffic-signs-processed\", files[i])\n",
    "    image = mpimg.imread(image_file)\n",
    "\n",
    "    X_test_extra[i] = np.array(image)\n",
    "    \n",
    "y_test_extra = np.empty([5], dtype=np.int)\n",
    "\n",
    "y_test_extra[0] = 5\n",
    "y_test_extra[1] = 9\n",
    "y_test_extra[2] = 17\n",
    "y_test_extra[3] = 13\n",
    "y_test_extra[4] = 12"
   ]
  },
  {
   "cell_type": "markdown",
   "metadata": {},
   "source": [
    "---\n",
    "\n",
    "## Step 1: Dataset Summary & Exploration\n",
    "\n",
    "The pickled data is a dictionary with 4 key/value pairs:\n",
    "\n",
    "- `'features'` is a 4D array containing raw pixel data of the traffic sign images, (num examples, width, height, channels).\n",
    "- `'labels'` is a 1D array containing the label/class id of the traffic sign. The file `signnames.csv` contains id -> name mappings for each id.\n",
    "- `'sizes'` is a list containing tuples, (width, height) representing the original width and height the image.\n",
    "- `'coords'` is a list containing tuples, (x1, y1, x2, y2) representing coordinates of a bounding box around the sign in the image. **THESE COORDINATES ASSUME THE ORIGINAL IMAGE. THE PICKLED DATA CONTAINS RESIZED VERSIONS (32 by 32) OF THESE IMAGES**\n",
    "\n",
    "Complete the basic data summary below. Use python, numpy and/or pandas methods to calculate the data summary rather than hard coding the results. For example, the [pandas shape method](http://pandas.pydata.org/pandas-docs/stable/generated/pandas.DataFrame.shape.html) might be useful for calculating some of the summary results. "
   ]
  },
  {
   "cell_type": "markdown",
   "metadata": {},
   "source": [
    "### Provide a Basic Summary of the Data Set Using Python, Numpy and/or Pandas"
   ]
  },
  {
   "cell_type": "code",
   "execution_count": 2,
   "metadata": {
    "collapsed": false
   },
   "outputs": [
    {
     "name": "stdout",
     "output_type": "stream",
     "text": [
      "Number of training examples = 34799\n",
      "Number of validation examples =  4410\n",
      "Number of testing examples = 12630\n",
      "Number of extra testing examples = 5\n",
      "Image data shape = [32, 32, 3]\n",
      "Number of classes = 43\n"
     ]
    }
   ],
   "source": [
    "# Display summary data about the datasets.\n",
    "\n",
    "# Number of training examples\n",
    "n_train = len(X_train)\n",
    "\n",
    "# Number of validation examples\n",
    "n_valid = len(X_valid)\n",
    "\n",
    "# Number of testing examples.\n",
    "n_test = len(X_test)\n",
    "\n",
    "# Number of extra test examples.\n",
    "n_test_extra = len(X_test_extra)\n",
    "\n",
    "# What's the shape of an traffic sign image?\n",
    "image_shape = [len(X_train[0][0]), len(X_train[0][1]), len(X_train[0][0][0])]\n",
    "\n",
    "# How many unique classes/labels there are in the dataset.\n",
    "n_classes = len(set(y_train))\n",
    "\n",
    "print(\"Number of training examples =\", n_train)\n",
    "print(\"Number of validation examples = \", n_valid)\n",
    "print(\"Number of testing examples =\", n_test)\n",
    "print(\"Number of extra testing examples =\", n_test_extra)\n",
    "print(\"Image data shape =\", image_shape)\n",
    "print(\"Number of classes =\", n_classes)\n"
   ]
  },
  {
   "cell_type": "markdown",
   "metadata": {},
   "source": [
    "### Include an exploratory visualization of the dataset"
   ]
  },
  {
   "cell_type": "markdown",
   "metadata": {},
   "source": [
    "Visualize the German Traffic Signs Dataset using the pickled file(s). This is open ended, suggestions include: plotting traffic sign images, plotting the count of each sign, etc.\n",
    "\n",
    "The [Matplotlib](http://matplotlib.org/) [examples](http://matplotlib.org/examples/index.html) and [gallery](http://matplotlib.org/gallery.html) pages are a great resource for doing visualizations in Python.\n",
    "\n",
    "**NOTE:** It's recommended you start with something simple first. If you wish to do more, come back to it after you've completed the rest of the sections."
   ]
  },
  {
   "cell_type": "code",
   "execution_count": 3,
   "metadata": {
    "collapsed": false
   },
   "outputs": [
    {
     "data": {
      "image/png": "[encoded data removed]",
      "text/plain": [
       "<matplotlib.figure.Figure at 0x7f658c9b7908>"
      ]
     },
     "metadata": {},
     "output_type": "display_data"
    },
    {
     "data": {
      "image/png": "[encoded data removed]",
      "text/plain": [
       "<matplotlib.figure.Figure at 0x7f65b1c54e10>"
      ]
     },
     "metadata": {},
     "output_type": "display_data"
    },
    {
     "data": {
      "image/png": "[encoded data removed]",
      "text/plain": [
       "<matplotlib.figure.Figure at 0x7f65865e29e8>"
      ]
     },
     "metadata": {},
     "output_type": "display_data"
    },
    {
     "data": {
      "image/png": "[encoded data removed]",
      "text/plain": [
       "<matplotlib.figure.Figure at 0x7f65864f2668>"
      ]
     },
     "metadata": {},
     "output_type": "display_data"
    },
    {
     "data": {
      "image/png": "[encoded data removed]",
      "text/plain": [
       "<matplotlib.figure.Figure at 0x7f65864c2780>"
      ]
     },
     "metadata": {},
     "output_type": "display_data"
    },
    {
     "data": {
      "image/png": "[encoded data removed]",
      "text/plain": [
       "<matplotlib.figure.Figure at 0x7f658648c630>"
      ]
     },
     "metadata": {},
     "output_type": "display_data"
    },
    {
     "data": {
      "image/png": "[encoded data removed]",
      "text/plain": [
       "<matplotlib.figure.Figure at 0x7f6586460908>"
      ]
     },
     "metadata": {},
     "output_type": "display_data"
    },
    {
     "data": {
      "image/png": "[encoded data removed]",
      "text/plain": [
       "<matplotlib.figure.Figure at 0x7f65863aa400>"
      ]
     },
     "metadata": {},
     "output_type": "display_data"
    },
    {
     "data": {
      "image/png": "[encoded data removed]",
      "text/plain": [
       "<matplotlib.figure.Figure at 0x7f658637d6d8>"
      ]
     },
     "metadata": {},
     "output_type": "display_data"
    },
    {
     "data": {
      "image/png": "[encoded data removed]",
      "text/plain": [
       "<matplotlib.figure.Figure at 0x7f65863471d0>"
      ]
     },
     "metadata": {},
     "output_type": "display_data"
    }
   ],
   "source": [
    "# Visualize the dataset by simply displaying 10 random images from the training dataset.\n",
    "\n",
    "import matplotlib.pyplot as plt\n",
    "# Visualizations will be shown in the notebook.\n",
    "%matplotlib inline\n",
    "\n",
    "from random import randint\n",
    "\n",
    "phi = 1.0\n",
    "theta = 1.0\n",
    "\n",
    "for i in range(10):\n",
    "    example = randint(0, n_train - 1)\n",
    "\n",
    "    plt.figure()\n",
    "    plt.imshow(X_train[example])\n",
    "    plt.imsave(path.join(\"examples\", \"training_image_{}.jpg\".format(i + 1)),\n",
    "               X_train[example])\n",
    "    "
   ]
  },
  {
   "cell_type": "markdown",
   "metadata": {},
   "source": [
    "----\n",
    "\n",
    "## Step 2: Design and Test a Model Architecture\n",
    "\n",
    "Design and implement a deep learning model that learns to recognize traffic signs. Train and test your model on the [German Traffic Sign Dataset](http://benchmark.ini.rub.de/?section=gtsrb&subsection=dataset).\n",
    "\n",
    "The LeNet-5 implementation shown in the [classroom](https://classroom.udacity.com/nanodegrees/nd013/parts/fbf77062-5703-404e-b60c-95b78b2f3f9e/modules/6df7ae49-c61c-4bb2-a23e-6527e69209ec/lessons/601ae704-1035-4287-8b11-e2c2716217ad/concepts/d4aca031-508f-4e0b-b493-e7b706120f81) at the end of the CNN lesson is a solid starting point. You'll have to change the number of classes and possibly the preprocessing, but aside from that it's plug and play! \n",
    "\n",
    "With the LeNet-5 solution from the lecture, you should expect a validation set accuracy of about 0.89. To meet specifications, the validation set accuracy will need to be at least 0.93. It is possible to get an even higher accuracy, but 0.93 is the minimum for a successful project submission. \n",
    "\n",
    "There are various aspects to consider when thinking about this problem:\n",
    "\n",
    "- Neural network architecture (is the network over or underfitting?)\n",
    "- Play around preprocessing techniques (normalization, rgb to grayscale, etc)\n",
    "- Number of examples per label (some have more than others).\n",
    "- Generate fake data.\n",
    "\n",
    "Here is an example of a [published baseline model on this problem](http://yann.lecun.com/exdb/publis/pdf/sermanet-ijcnn-11.pdf). It's not required to be familiar with the approach used in the paper but, it's good practice to try to read papers like these."
   ]
  },
  {
   "cell_type": "markdown",
   "metadata": {},
   "source": [
    "### Pre-process the Data Set (normalization, grayscale, etc.)"
   ]
  },
  {
   "cell_type": "markdown",
   "metadata": {},
   "source": [
    "Use the code cell (or multiple code cells, if necessary) to implement the first step of your project."
   ]
  },
  {
   "cell_type": "code",
   "execution_count": 4,
   "metadata": {
    "collapsed": true
   },
   "outputs": [],
   "source": [
    "# Define pre-processing functions\n",
    "import cv2\n",
    "\n",
    "def grayscale(img):\n",
    "    \"\"\"\n",
    "    Applies the Grayscale transform\n",
    "    \n",
    "    `img` is the image that the transform should be applied to\n",
    "    \"\"\"\n",
    "    return cv2.cvtColor(img, cv2.COLOR_RGB2GRAY)\n"
   ]
  },
  {
   "cell_type": "code",
   "execution_count": 5,
   "metadata": {
    "collapsed": false
   },
   "outputs": [
    {
     "data": {
      "text/plain": [
       "<matplotlib.image.AxesImage at 0x7f6584e8f1d0>"
      ]
     },
     "execution_count": 5,
     "metadata": {},
     "output_type": "execute_result"
    },
    {
     "data": {
      "image/png": "[encoded data removed]",
      "text/plain": [
       "<matplotlib.figure.Figure at 0x7f6586189f60>"
      ]
     },
     "metadata": {},
     "output_type": "display_data"
    }
   ],
   "source": [
    "# Generate example grayscale image\n",
    "\n",
    "grayscale_example = grayscale(\n",
    "    plt.imread(path.join(\"examples\",\n",
    "                         \"image_before_grayscale.jpg\")))\n",
    "\n",
    "plt.imsave(path.join(\"examples\", \"image_after_grayscale.jpg\"),\n",
    "           grayscale_example,\n",
    "           cmap=\"Greys\")\n",
    "plt.figure()\n",
    "plt.imshow(grayscale_example, cmap=\"Greys\")\n"
   ]
  },
  {
   "cell_type": "code",
   "execution_count": 6,
   "metadata": {
    "collapsed": false
   },
   "outputs": [],
   "source": [
    "# Define functions functions for jittering the dataset.\n",
    "from random import randint, uniform\n",
    "from scipy.misc import imresize\n",
    "from scipy.ndimage.interpolation import rotate\n",
    "\n",
    "\n",
    "def shift(img, x, y):\n",
    "    \"\"\"\n",
    "    Shifts an image in the x direction by x pixels and in the y direction by y\n",
    "    pixels.\n",
    "    \n",
    "    `img` is the image to shift\n",
    "    `x` is the number of pixels to shift the image in the x direction\n",
    "    `y` is the number of pixels to shift the image in the y direction\n",
    "    \n",
    "    The image is copied and returned and not modified in place.\n",
    "    \"\"\"\n",
    "    non = lambda s: s if s < 0 else None\n",
    "    mom = lambda s: max(0, s)\n",
    "\n",
    "    shift_img = np.zeros_like(img, dtype=np.uint8)\n",
    "    shift_img[mom(y):non(y), mom(x):non(x)] = img[mom(-y):non(-y), mom(-x):non(-x)]\n",
    "    \n",
    "    return shift_img\n",
    "\n",
    "\n",
    "def random_shift(img, x_range=[-2, 2], y_range=[-2, 2]):\n",
    "    \"\"\"\n",
    "    Shifts an image in the x and y by a random number of pixels within the given\n",
    "    range.\n",
    "    \n",
    "    `img` is the image to shift\n",
    "    `x_range` is the range to choose for the shift in the x direction\n",
    "    `y_range` is the range to choose for the shift in the y direction\n",
    "    \n",
    "    The image is copied and returned and not modified in place.\n",
    "    \"\"\"\n",
    "    return shift(img, randint(x_range[0], x_range[1]), randint(y_range[0], y_range[1]))\n",
    "\n",
    "\n",
    "def resize(img, scale=0.9):\n",
    "    \"\"\"\n",
    "    Resizes an image according to the given scale.\n",
    "    \n",
    "    `img` is the image to resize\n",
    "    `scale` specifies how much the image should be scaled\n",
    "    \n",
    "    A scale <1 will result in the image shrinking while a scale >1 will enlarge the\n",
    "    image.\n",
    "    \n",
    "    The returned image will always have the same shape as original.\n",
    "    If scale was set such that the image was made smaller, pixels around\n",
    "    the border are set to 0. If the scale was set such that the image was\n",
    "    made bigger, parts of the image will be truncated.\n",
    "    \n",
    "    The image is copied and returned and not modified in place.\n",
    "    \"\"\"\n",
    "    resized = imresize(img, scale)\n",
    "    \n",
    "    x_pad = max(0, img.shape[0] - resized.shape[0])\n",
    "    y_pad = max(0, img.shape[1] - resized.shape[1])\n",
    "    \n",
    "    if x_pad > 0 or y_pad > 0:\n",
    "        left_pad = int(x_pad / 2 if x_pad % 2 == 0 else (x_pad / 2) + 1)\n",
    "        right_pad = int(x_pad / 2)\n",
    "        \n",
    "        top_pad = int(y_pad / 2 if y_pad % 2 == 0 else (y_pad / 2) + 1)\n",
    "        bottom_pad = int(y_pad / 2)\n",
    "    \n",
    "        resized = np.pad(resized,\n",
    "                         ((left_pad, right_pad),\n",
    "                          (top_pad, bottom_pad),\n",
    "                          (0, 0)),\n",
    "                         \"constant\")\n",
    "        \n",
    "    x_trim = max(0, resized.shape[0] - img.shape[0])\n",
    "    y_trim = max(0, resized.shape[1] - img.shape[1])\n",
    "    \n",
    "    if x_trim > 0 or y_trim > 0:\n",
    "        left_trim = int(x_trim / 2 if x_trim % 2 == 0 else (x_trim / 2) + 1)\n",
    "        right_trim = int(x_trim / 2)\n",
    "        \n",
    "        top_trim = int(y_trim / 2 if y_trim % 2 == 0 else (y_trim / 2) + 1)\n",
    "        bottom_trim = int(y_trim / 2)\n",
    "        resized = resized[left_trim:(resized.shape[0]-right_trim),\n",
    "                          top_trim:(resized.shape[1]-bottom_trim), :]\n",
    "    \n",
    "    return resized\n",
    "\n",
    "\n",
    "def random_resize(img, scale_range=[0.9, 1.1]):\n",
    "    \"\"\"\n",
    "    Randomly resize the image within the given range inclusive.\n",
    "    \n",
    "    `img` is the image to be randomly resized\n",
    "    `scale_range` specifies the range to stay within for scaling the image\n",
    "    \n",
    "    The image is copied and returned and not modified in place.\n",
    "    \"\"\"\n",
    "    return resize(img, uniform(scale_range[0], scale_range[1]))\n",
    "\n",
    "\n",
    "def random_rotate(img, angle_range=[-15.0, 15.0]):\n",
    "    \"\"\"\n",
    "    Randomly rotate the image within the given range of degrees.\n",
    "    \n",
    "    `img` is the image to randomly rotate\n",
    "    `angle_range` specifies the minimum and maximum number of degrees\n",
    "    \n",
    "    The image is copied and returned and not modified in place.\n",
    "    \"\"\"\n",
    "    return rotate(img, uniform(angle_range[0], angle_range[1]), reshape=False)\n",
    "\n",
    "\n",
    "def jitter(X_train, y_train, jitter_funcs):\n",
    "    \"\"\"\n",
    "    Returns a new training set that has been jittered according to the list of\n",
    "    jitter functions.\n",
    "    \n",
    "    `X_train` is the set of examples\n",
    "    `y_train` are the labels for the examples\n",
    "    `jitter_funcs` is a list of jitter functions to apply\n",
    "\n",
    "    A new example will be generated for each combination of original example and\n",
    "    jitter function, e.g. if there are 10 training examples and 3 jitter\n",
    "    functions then there will be 40 examples in the returned training set since\n",
    "    the original examples are also returned.\n",
    "    \"\"\"\n",
    "    all_X_train_jittered = [X_train]\n",
    "    all_y_train_jittered = [y_train]\n",
    "    \n",
    "    for j in range(len(jitter_funcs)):\n",
    "        X_train_jittered = np.empty_like(X_train)\n",
    "        y_train_jittered = np.empty_like(y_train)\n",
    "        \n",
    "        all_X_train_jittered.append(X_train_jittered)\n",
    "        all_y_train_jittered.append(y_train_jittered)\n",
    "\n",
    "    for i in range(len(X_train)):\n",
    "        for j in range(len(jitter_funcs)):\n",
    "            all_X_train_jittered[j + 1][i] = jitter_funcs[j](X_train[i])\n",
    "            all_y_train_jittered[j + 1][i] = y_train[i]\n",
    "        \n",
    "    return np.concatenate(all_X_train_jittered), \\\n",
    "        np.concatenate(all_y_train_jittered)\n"
   ]
  },
  {
   "cell_type": "code",
   "execution_count": 7,
   "metadata": {
    "collapsed": false
   },
   "outputs": [
    {
     "data": {
      "text/plain": [
       "<matplotlib.image.AxesImage at 0x7f65863c3ac8>"
      ]
     },
     "execution_count": 7,
     "metadata": {},
     "output_type": "execute_result"
    },
    {
     "data": {
      "image/png": "[encoded data removed]",
      "text/plain": [
       "<matplotlib.figure.Figure at 0x7f6584e40860>"
      ]
     },
     "metadata": {},
     "output_type": "display_data"
    },
    {
     "data": {
      "image/png": "[encoded data removed]",
      "text/plain": [
       "<matplotlib.figure.Figure at 0x7f6584ed4f28>"
      ]
     },
     "metadata": {},
     "output_type": "display_data"
    },
    {
     "data": {
      "image/png": "[encoded data removed]",
      "text/plain": [
       "<matplotlib.figure.Figure at 0x7f6586326ba8>"
      ]
     },
     "metadata": {},
     "output_type": "display_data"
    }
   ],
   "source": [
    "# Generate example images resulting from each of the jitter functions above.\n",
    "\n",
    "shift_example = shift(\n",
    "    plt.imread(path.join(\"examples\", \"image_before_random_shift.jpg\")), -2, -2)\n",
    "plt.imsave(path.join(\"examples\", \"image_after_random_shift.jpg\"),\n",
    "           shift_example)\n",
    "plt.figure()\n",
    "plt.imshow(shift_example)\n",
    "\n",
    "resize_example = resize(\n",
    "    plt.imread(path.join(\"examples\", \"image_before_random_resize.jpg\")), 0.9)\n",
    "plt.imsave(path.join(\"examples\", \"image_after_random_resize.jpg\"),\n",
    "           resize_example)\n",
    "plt.figure()\n",
    "plt.imshow(resize_example)\n",
    "\n",
    "rotate_example = rotate(\n",
    "    plt.imread(path.join(\"examples\", \"image_before_random_rotate.jpg\")),\n",
    "    -15.0,\n",
    "    reshape=False)\n",
    "plt.imsave(path.join(\"examples\", \"image_after_random_rotate.jpg\"),\n",
    "           rotate_example)\n",
    "plt.figure()\n",
    "plt.imshow(rotate_example)\n"
   ]
  },
  {
   "cell_type": "code",
   "execution_count": 8,
   "metadata": {
    "collapsed": false
   },
   "outputs": [],
   "source": [
    "# Preprocess the data for training.\n",
    "from sklearn.utils import shuffle\n",
    "\n",
    "\n",
    "X_train, y_train = jitter(X_train, y_train,\n",
    "                          [random_shift, random_resize, random_rotate])\n",
    "    \n",
    "X_train = [np.reshape(grayscale(x), [32, 32, 1]) for x in X_train]\n",
    "X_valid = [np.reshape(grayscale(x), [32, 32, 1]) for x in X_valid]\n",
    "\n",
    "X_train, y_train = shuffle(X_train, y_train)\n"
   ]
  },
  {
   "cell_type": "markdown",
   "metadata": {},
   "source": [
    "### Model Architecture"
   ]
  },
  {
   "cell_type": "code",
   "execution_count": 9,
   "metadata": {
    "collapsed": false
   },
   "outputs": [],
   "source": [
    "# Define the neural network architecture.\n",
    "import tensorflow as tf\n",
    "from tensorflow.contrib.layers import flatten\n",
    "\n",
    "\n",
    "def conv2d(input, input_depth, filter_size, stride_size, output_depth, mu=0.0,\n",
    "           sigma=0.1):\n",
    "    \"\"\"\n",
    "    Performs a 2-dimensional convolution on some input.\n",
    "    \n",
    "    `input_depth` specifies the depth of the input\n",
    "    `filter_size` specifies the width and height of the filter\n",
    "    `stride_size` specifies the stride width and height\n",
    "    `output_depth` specifies the output depth\n",
    "    `mu` specifies the mean of the normal distribution from which to draw\n",
    "    initial weights\n",
    "    `sigma` specifies the std deviation of the normal distribution from which\n",
    "    to draw initial weights\n",
    "\n",
    "    Weights for the filters will be initialized by drawing values randomly\n",
    "    from a truncated normal distribution. A truncated normal distribution is\n",
    "    one where values more than 2 std deviations from the mean are repicked.\n",
    "    Biases will be set to zero.\n",
    "    VALID padding is always used for the filters.\n",
    "    \"\"\"\n",
    "    F_W = tf.Variable(tf.truncated_normal([filter_size, filter_size, input_depth, output_depth],\n",
    "                                          mean=mu, stddev=sigma))\n",
    "    F_b = tf.Variable(tf.zeros([output_depth]))\n",
    "    strides = [1, stride_size, stride_size, 1]\n",
    "    # Always use valid padding\n",
    "    padding = 'VALID'\n",
    "    # https://www.tensorflow.org/versions/r0.11/api_docs/python/nn.html#conv2d\n",
    "    # `tf.nn.conv2d` does not include the bias computation so we have to add it ourselves after.\n",
    "    return tf.nn.conv2d(input, F_W, strides, padding) + F_b\n",
    "\n",
    "\n",
    "def fullconnect(input, input_size, output_size, mu=0.0, sigma=0.1):\n",
    "    \"\"\"\n",
    "    Creates a fully connected layer having the given input size and the given\n",
    "    output size.\n",
    "    \n",
    "    `input` is the input layer\n",
    "    `input_size` specifies the size of the input layer\n",
    "    `output_size` specifies the size of the output layer\n",
    "    `mu` specifies the mean of the normal distribution from which to draw\n",
    "    initial weights\n",
    "    `sigma` specifies the std deviation of the normal distribution from which\n",
    "    to draw initial weights\n",
    "    \n",
    "    Weights for the filters will be initialized by drawing values randomly from\n",
    "    a truncated normal distribution. A truncated normal distribution is one where\n",
    "    values more than 2 std deviations from the mean are repicked.\n",
    "    Biases will be set to zero.\n",
    "    \"\"\"\n",
    "    weights = tf.Variable(tf.truncated_normal([input_size, output_size],\n",
    "                                              mean=mu, stddev=sigma))\n",
    "    biases = tf.Variable(tf.zeros([output_size]))\n",
    "    return tf.add(tf.matmul(input, weights), biases)\n",
    "\n",
    "\n",
    "def maxpool(input, kernel_size, stride_size):\n",
    "    \"\"\"\n",
    "    Applies the max pool function using the given kernel size and stride size.\n",
    "    \n",
    "    `input` is the input layer for the maxpool operation\n",
    "    `kernel_size` specifies the size of the kernel to use for the maxpool\n",
    "    operation\n",
    "    `stride_size` specifies the stride to use when applying the maxpool\n",
    "    operation\n",
    "    \"\"\"\n",
    "    return tf.nn.max_pool(input,\n",
    "                          ksize=[1, kernel_size, kernel_size, 1],\n",
    "                          strides=[1, stride_size, stride_size, 1],\n",
    "                          padding='VALID')\n",
    "\n",
    "\n",
    "def meanpool(input, kernel_size, stride_size):\n",
    "    \"\"\"\n",
    "    Applies the mean pool function using the given kernel size and stride size.\n",
    "    \n",
    "    `input` is the input layer for the maxpool operation\n",
    "    `kernel_size` specifies the size of the kernel to use for the maxpool\n",
    "    operation\n",
    "    `stride_size` specifies the stride to use when applying the maxpool\n",
    "    operation\n",
    "    \"\"\"\n",
    "    return tf.nn.avg_pool(input,\n",
    "                      ksize=[1, kernel_size, kernel_size, 1],\n",
    "                      strides=[1, stride_size, stride_size, 1],\n",
    "                      padding='VALID')\n",
    "\n",
    "\n",
    "def LeNet(x, n_classes, activation=tf.nn.relu, pool=maxpool):\n",
    "    \"\"\"\n",
    "    Creates a neural network that uses the LeNet architecture.\n",
    "    \n",
    "    `x` is the input to the network\n",
    "    `n_classes` are the number of classes that the network is being used to \n",
    "    classify\n",
    "    `activation` specifies the activation function to use\n",
    "    `pool` specifies the pooling operation to use\n",
    "    \n",
    "    Note that the input to the network, x, must be 32x32x1.\n",
    "    \"\"\"\n",
    "    #\n",
    "    # Layer 1: Convolutional. Input = 32x32x1. Output = 28x28x6.\n",
    "    # No padding since we are using valid padding.\n",
    "    #\n",
    "    out = conv2d(x, 1, 5, 1, 6)\n",
    "    out = activation(out)\n",
    "    # Pooling. Input = 28x28x6. Output = 14x14x6.\n",
    "    out = pool(out, 2, 2)\n",
    "\n",
    "    #\n",
    "    # Layer 2: Convolutional. Input = 14x14x6. Output = 10x10x16.\n",
    "    #\n",
    "    out = conv2d(out, 6, 5, 1, 16)\n",
    "    out = activation(out)\n",
    "    # Pooling. Input = 10x10x16. Output = 5x5x16.\n",
    "    out = pool(out, 2, 2)\n",
    "    # Flatten. Input = 5x5x16. Output = 400.\n",
    "    out = tf.reshape(out, [-1, 400])\n",
    "    \n",
    "    #\n",
    "    # Layer 3: Fully Connected. Input = 400. Output = 120.\n",
    "    #\n",
    "    out = fullconnect(out, 400, 120)\n",
    "    out = activation(out)\n",
    "    \n",
    "    #\n",
    "    # Layer 4: Fully Connected. Input = 120. Output = 84.\n",
    "    #\n",
    "    out = fullconnect(out, 120, 84)\n",
    "    out = activation(out)\n",
    "\n",
    "    #\n",
    "    # Layer 5: Fully Connected. Input = 84. Output = n_classes.\n",
    "    #\n",
    "    out = fullconnect(out, 84, n_classes)\n",
    "    \n",
    "    return out\n"
   ]
  },
  {
   "cell_type": "markdown",
   "metadata": {},
   "source": [
    "### Train, Validate and Test the Model"
   ]
  },
  {
   "cell_type": "markdown",
   "metadata": {},
   "source": [
    "A validation set can be used to assess how well the model is performing. A low accuracy on the training and validation\n",
    "sets imply underfitting. A high accuracy on the training set but low accuracy on the validation set implies overfitting."
   ]
  },
  {
   "cell_type": "code",
   "execution_count": 10,
   "metadata": {
    "collapsed": true
   },
   "outputs": [],
   "source": [
    "# Define hyperparameters\n",
    "\n",
    "learning_rate = 0.001\n",
    "epochs = 20\n",
    "batch_size = 256\n"
   ]
  },
  {
   "cell_type": "code",
   "execution_count": 11,
   "metadata": {
    "collapsed": false
   },
   "outputs": [],
   "source": [
    "# Define evaluation function\n",
    "\n",
    "x = tf.placeholder(tf.float32, (None, 32, 32, 1))\n",
    "y = tf.placeholder(tf.int32, (None))\n",
    "one_hot_y = tf.one_hot(y, n_classes)\n",
    "\n",
    "logits = LeNet(x, n_classes, activation=tf.nn.softsign)\n",
    "correct_prediction = tf.equal(tf.argmax(logits, 1), tf.argmax(one_hot_y, 1))\n",
    "accuracy_operation = tf.reduce_mean(tf.cast(correct_prediction, tf.float32))\n",
    "\n",
    "def evaluate(X_data, y_data):\n",
    "    \"\"\"\n",
    "    Calculates the accuracy of the model on the given dataset.\n",
    "    \n",
    "    `X_data` are the examples\n",
    "    `y_data` are the labels for each of the examples\n",
    "    \n",
    "    This function must be called inside a tensorflow session. The evaulation is\n",
    "    done using the current model.\n",
    "    \"\"\"\n",
    "    num_examples = len(X_data)\n",
    "    total_accuracy = 0\n",
    "    sess = tf.get_default_session()\n",
    "    for offset in range(0, num_examples, batch_size):\n",
    "        batch_x, batch_y = X_data[offset:offset+batch_size], \\\n",
    "                            y_data[offset:offset+batch_size]\n",
    "        accuracy = sess.run(accuracy_operation,\n",
    "                            feed_dict={x: batch_x, y: batch_y})\n",
    "        total_accuracy += (accuracy * len(batch_x))\n",
    "    return total_accuracy / num_examples\n"
   ]
  },
  {
   "cell_type": "code",
   "execution_count": 12,
   "metadata": {
    "collapsed": false
   },
   "outputs": [
    {
     "name": "stdout",
     "output_type": "stream",
     "text": [
      "Training...\n",
      "\n",
      "EPOCH 1 ...\n",
      "Validation Accuracy = 0.882\n",
      "\n",
      "EPOCH 2 ...\n",
      "Validation Accuracy = 0.920\n",
      "\n",
      "EPOCH 3 ...\n",
      "Validation Accuracy = 0.934\n",
      "\n",
      "EPOCH 4 ...\n",
      "Validation Accuracy = 0.938\n",
      "\n",
      "EPOCH 5 ...\n",
      "Validation Accuracy = 0.938\n",
      "\n",
      "EPOCH 6 ...\n",
      "Validation Accuracy = 0.939\n",
      "\n",
      "EPOCH 7 ...\n",
      "Validation Accuracy = 0.945\n",
      "\n",
      "EPOCH 8 ...\n",
      "Validation Accuracy = 0.942\n",
      "\n",
      "EPOCH 9 ...\n",
      "Validation Accuracy = 0.941\n",
      "\n",
      "EPOCH 10 ...\n",
      "Validation Accuracy = 0.940\n",
      "\n",
      "EPOCH 11 ...\n",
      "Validation Accuracy = 0.941\n",
      "\n",
      "EPOCH 12 ...\n",
      "Validation Accuracy = 0.948\n",
      "\n",
      "EPOCH 13 ...\n",
      "Validation Accuracy = 0.944\n",
      "\n",
      "EPOCH 14 ...\n",
      "Validation Accuracy = 0.940\n",
      "\n",
      "EPOCH 15 ...\n",
      "Validation Accuracy = 0.953\n",
      "\n",
      "EPOCH 16 ...\n",
      "Validation Accuracy = 0.949\n",
      "\n",
      "EPOCH 17 ...\n",
      "Validation Accuracy = 0.946\n",
      "\n",
      "EPOCH 18 ...\n",
      "Validation Accuracy = 0.950\n",
      "\n",
      "EPOCH 19 ...\n",
      "Validation Accuracy = 0.945\n",
      "\n",
      "EPOCH 20 ...\n",
      "Validation Accuracy = 0.954\n",
      "\n",
      "Model saved\n"
     ]
    }
   ],
   "source": [
    "# Train model.\n",
    "\n",
    "cross_entropy = tf.nn.softmax_cross_entropy_with_logits(logits, one_hot_y)\n",
    "loss_operation = tf.reduce_mean(cross_entropy)\n",
    "optimizer = tf.train.AdamOptimizer(learning_rate = learning_rate)\n",
    "training_operation = optimizer.minimize(loss_operation)\n",
    "\n",
    "saver = tf.train.Saver()\n",
    "\n",
    "with tf.Session() as sess:\n",
    "    sess.run(tf.global_variables_initializer())\n",
    "    num_examples = len(X_train)\n",
    "    \n",
    "    print(\"Training...\")\n",
    "    print()\n",
    "    for i in range(epochs):\n",
    "        X_train, y_train = shuffle(X_train, y_train)\n",
    "        for offset in range(0, num_examples, batch_size):\n",
    "            end = offset + batch_size\n",
    "            batch_x, batch_y = X_train[offset:end], y_train[offset:end]\n",
    "            sess.run(training_operation, feed_dict={x: batch_x, y: batch_y})\n",
    "            \n",
    "        validation_accuracy = evaluate(X_valid, y_valid)\n",
    "        print(\"EPOCH {} ...\".format(i+1))\n",
    "        print(\"Validation Accuracy = {:.3f}\".format(validation_accuracy))\n",
    "        print()\n",
    "        \n",
    "    saver.save(sess, './lenet')\n",
    "    print(\"Model saved\")\n"
   ]
  },
  {
   "cell_type": "code",
   "execution_count": 13,
   "metadata": {
    "collapsed": true
   },
   "outputs": [],
   "source": [
    "# Pre-process test set first by converting to grayscale.\n",
    "\n",
    "X_test = [np.reshape(grayscale(x), [32, 32, 1]) for x in X_test]"
   ]
  },
  {
   "cell_type": "code",
   "execution_count": 14,
   "metadata": {
    "collapsed": false
   },
   "outputs": [
    {
     "name": "stdout",
     "output_type": "stream",
     "text": [
      "Test Accuracy = 0.942\n"
     ]
    }
   ],
   "source": [
    "# Calculate accuracy on the test set.\n",
    "\n",
    "with tf.Session() as sess:\n",
    "    saver.restore(sess, tf.train.latest_checkpoint('.'))\n",
    "\n",
    "    test_accuracy = evaluate(X_test, y_test)\n",
    "    print(\"Test Accuracy = {:.3f}\".format(test_accuracy))\n"
   ]
  },
  {
   "cell_type": "markdown",
   "metadata": {},
   "source": [
    "---\n",
    "\n",
    "## Step 3: Test a Model on New Images\n",
    "\n",
    "To give yourself more insight into how your model is working, download at least five pictures of German traffic signs from the web and use your model to predict the traffic sign type.\n",
    "\n",
    "You may find `signnames.csv` useful as it contains mappings from the class id (integer) to the actual sign name."
   ]
  },
  {
   "cell_type": "markdown",
   "metadata": {},
   "source": [
    "### Load and Output the Images"
   ]
  },
  {
   "cell_type": "code",
   "execution_count": 15,
   "metadata": {
    "collapsed": false
   },
   "outputs": [
    {
     "data": {
      "image/png": "[encoded data removed]",
      "text/plain": [
       "<matplotlib.figure.Figure at 0x7f655981c9b0>"
      ]
     },
     "metadata": {},
     "output_type": "display_data"
    },
    {
     "data": {
      "image/png": "[encoded data removed]",
      "text/plain": [
       "<matplotlib.figure.Figure at 0x7f65582500b8>"
      ]
     },
     "metadata": {},
     "output_type": "display_data"
    },
    {
     "data": {
      "image/png": "[encoded data removed]",
      "text/plain": [
       "<matplotlib.figure.Figure at 0x7f65582d8d68>"
      ]
     },
     "metadata": {},
     "output_type": "display_data"
    },
    {
     "data": {
      "image/png": "[encoded data removed]",
      "text/plain": [
       "<matplotlib.figure.Figure at 0x7f6558433cf8>"
      ]
     },
     "metadata": {},
     "output_type": "display_data"
    },
    {
     "data": {
      "image/png": "[encoded data removed]",
      "text/plain": [
       "<matplotlib.figure.Figure at 0x7f65583f9c50>"
      ]
     },
     "metadata": {},
     "output_type": "display_data"
    }
   ],
   "source": [
    "# Display images in the extra test set.\n",
    "\n",
    "for i in range(len(X_test_extra)):        \n",
    "    plt.figure().suptitle(\"Sign {}\".format(i + 1))\n",
    "    plt.imshow(X_test_extra[i])\n"
   ]
  },
  {
   "cell_type": "markdown",
   "metadata": {},
   "source": [
    "### Predict the Sign Type for Each Image"
   ]
  },
  {
   "cell_type": "code",
   "execution_count": 16,
   "metadata": {
    "collapsed": true
   },
   "outputs": [],
   "source": [
    "# Pre-process extra test set by converting to grayscale.\n",
    "\n",
    "X_test_extra = [np.reshape(grayscale(x), [32, 32, 1]) for x in X_test_extra]\n"
   ]
  },
  {
   "cell_type": "code",
   "execution_count": 17,
   "metadata": {
    "collapsed": false
   },
   "outputs": [],
   "source": [
    "# Load sign to text classifications from csv file.\n",
    "import csv\n",
    "\n",
    "signs = []\n",
    "with open('signnames.csv') as f:\n",
    "    reader = csv.DictReader(f)\n",
    "    for row in reader:\n",
    "        signs.append(row)\n"
   ]
  },
  {
   "cell_type": "code",
   "execution_count": 26,
   "metadata": {
    "collapsed": false
   },
   "outputs": [
    {
     "name": "stdout",
     "output_type": "stream",
     "text": [
      "Sign 1 is Keep left\n",
      "Sign 2 is No passing\n",
      "Sign 3 is No entry\n",
      "Sign 4 is Yield\n",
      "Sign 5 is Priority road\n"
     ]
    }
   ],
   "source": [
    "# Run the predictions on the pre-processed images in the extra test set.\n",
    "\n",
    "with tf.Session() as sess:\n",
    "    saver.restore(sess, tf.train.latest_checkpoint('.'))\n",
    "    \n",
    "    softmax = tf.nn.softmax(logits)\n",
    "    classifications = sess.run(softmax, feed_dict={x: X_test_extra})\n",
    "    \n",
    "    for i in range(len(classifications)):\n",
    "        values, indices = tf.nn.top_k(classifications[i])\n",
    "        print(\"Sign\", i + 1, \"is\", signs[indices[0].eval()][\"SignName\"])\n"
   ]
  },
  {
   "cell_type": "markdown",
   "metadata": {},
   "source": [
    "### Analyze Performance"
   ]
  },
  {
   "cell_type": "code",
   "execution_count": 27,
   "metadata": {
    "collapsed": false
   },
   "outputs": [
    {
     "name": "stdout",
     "output_type": "stream",
     "text": [
      "Extra Test Accuracy = 0.800\n"
     ]
    }
   ],
   "source": [
    "# Calculate the accuracy for extra test set images.\n",
    "\n",
    "with tf.Session() as sess:\n",
    "    saver.restore(sess, tf.train.latest_checkpoint('.'))\n",
    "\n",
    "    test_accuracy = evaluate(X_test_extra, y_test_extra)\n",
    "    print(\"Extra Test Accuracy = {:.3f}\".format(test_accuracy))\n"
   ]
  },
  {
   "cell_type": "markdown",
   "metadata": {},
   "source": [
    "### Output Top 5 Softmax Probabilities For Each Image Found on the Web"
   ]
  },
  {
   "cell_type": "markdown",
   "metadata": {},
   "source": [
    "For each of the new images, print out the model's softmax probabilities to show the **certainty** of the model's predictions (limit the output to the top 5 probabilities for each image). [`tf.nn.top_k`](https://www.tensorflow.org/versions/r0.12/api_docs/python/nn.html#top_k) could prove helpful here. \n",
    "\n",
    "The example below demonstrates how tf.nn.top_k can be used to find the top k predictions for each image.\n",
    "\n",
    "`tf.nn.top_k` will return the values and indices (class ids) of the top k predictions. So if k=3, for each sign, it'll return the 3 largest probabilities (out of a possible 43) and the correspoding class ids.\n",
    "\n",
    "Take this numpy array as an example. The values in the array represent predictions. The array contains softmax probabilities for five candidate images with six possible classes. `tk.nn.top_k` is used to choose the three classes with the highest probability:\n",
    "\n",
    "```\n",
    "# (5, 6) array\n",
    "a = np.array([[ 0.24879643,  0.07032244,  0.12641572,  0.34763842,  0.07893497,\n",
    "         0.12789202],\n",
    "       [ 0.28086119,  0.27569815,  0.08594638,  0.0178669 ,  0.18063401,\n",
    "         0.15899337],\n",
    "       [ 0.26076848,  0.23664738,  0.08020603,  0.07001922,  0.1134371 ,\n",
    "         0.23892179],\n",
    "       [ 0.11943333,  0.29198961,  0.02605103,  0.26234032,  0.1351348 ,\n",
    "         0.16505091],\n",
    "       [ 0.09561176,  0.34396535,  0.0643941 ,  0.16240774,  0.24206137,\n",
    "         0.09155967]])\n",
    "```\n",
    "\n",
    "Running it through `sess.run(tf.nn.top_k(tf.constant(a), k=3))` produces:\n",
    "\n",
    "```\n",
    "TopKV2(values=array([[ 0.34763842,  0.24879643,  0.12789202],\n",
    "       [ 0.28086119,  0.27569815,  0.18063401],\n",
    "       [ 0.26076848,  0.23892179,  0.23664738],\n",
    "       [ 0.29198961,  0.26234032,  0.16505091],\n",
    "       [ 0.34396535,  0.24206137,  0.16240774]]), indices=array([[3, 0, 5],\n",
    "       [0, 1, 4],\n",
    "       [0, 5, 1],\n",
    "       [1, 3, 5],\n",
    "       [1, 4, 3]], dtype=int32))\n",
    "```\n",
    "\n",
    "Looking just at the first row we get `[ 0.34763842,  0.24879643,  0.12789202]`, you can confirm these are the 3 largest probabilities in `a`. You'll also notice `[3, 0, 5]` are the corresponding indices."
   ]
  },
  {
   "cell_type": "code",
   "execution_count": 37,
   "metadata": {
    "collapsed": false
   },
   "outputs": [
    {
     "name": "stdout",
     "output_type": "stream",
     "text": [
      "## Top 5 softmax probabilities for sign 1 ##\n",
      "Probability 0.426929 Prediction Keep left\n",
      "Probability 0.277613 Prediction Speed limit (30km/h)\n",
      "Probability 0.141507 Prediction Speed limit (50km/h)\n",
      "Probability 0.0580122 Prediction Roundabout mandatory\n",
      "Probability 0.0360092 Prediction Children crossing\n",
      "\n",
      "## Top 5 softmax probabilities for sign 2 ##\n",
      "Probability 0.999585 Prediction No passing\n",
      "Probability 0.000368811 Prediction Priority road\n",
      "Probability 2.25628e-05 Prediction Ahead only\n",
      "Probability 1.01326e-05 Prediction Vehicles over 3.5 metric tons prohibited\n",
      "Probability 3.66784e-06 Prediction End of no passing\n",
      "\n",
      "## Top 5 softmax probabilities for sign 3 ##\n",
      "Probability 0.999121 Prediction No entry\n",
      "Probability 0.000372152 Prediction No passing\n",
      "Probability 0.000263223 Prediction Stop\n",
      "Probability 0.000205887 Prediction Turn left ahead\n",
      "Probability 1.853e-05 Prediction Turn right ahead\n",
      "\n",
      "## Top 5 softmax probabilities for sign 4 ##\n",
      "Probability 0.982527 Prediction Yield\n",
      "Probability 0.010628 Prediction Double curve\n",
      "Probability 0.00661395 Prediction Road work\n",
      "Probability 0.000160749 Prediction Priority road\n",
      "Probability 3.0271e-05 Prediction Dangerous curve to the left\n",
      "\n",
      "## Top 5 softmax probabilities for sign 5 ##\n",
      "Probability 0.999992 Prediction Priority road\n",
      "Probability 4.07186e-06 Prediction No passing\n",
      "Probability 2.42799e-06 Prediction No vehicles\n",
      "Probability 1.11543e-06 Prediction Roundabout mandatory\n",
      "Probability 4.14688e-07 Prediction End of all speed and passing limits\n",
      "\n"
     ]
    }
   ],
   "source": [
    "# Print out top 5 softmax probabilities\n",
    "\n",
    "with tf.Session() as sess:\n",
    "    saver.restore(sess, tf.train.latest_checkpoint('.'))\n",
    "    \n",
    "    for i in range(len(classifications)):\n",
    "        values, indices = tf.nn.top_k(classifications[i], k = 5)\n",
    "        probabilities = values.eval()\n",
    "        indices = indices.eval()\n",
    "        \n",
    "        print(\"## Top 5 softmax probabilities for sign\", i + 1, \"##\")\n",
    "        for i in range(len(probabilities)):\n",
    "            print(\"Probability\", probabilities[i], \"Prediction\", signs[indices[i]][\"SignName\"])\n",
    "        print()"
   ]
  },
  {
   "cell_type": "markdown",
   "metadata": {},
   "source": [
    "---\n",
    "\n",
    "## Step 4: Visualize the Neural Network's State with Test Images\n",
    "\n",
    " This Section is not required to complete but acts as an additional excersise for understaning the output of a neural network's weights. While neural networks can be a great learning device they are often referred to as a black box. We can understand what the weights of a neural network look like better by plotting their feature maps. After successfully training your neural network you can see what it's feature maps look like by plotting the output of the network's weight layers in response to a test stimuli image. From these plotted feature maps, it's possible to see what characteristics of an image the network finds interesting. For a sign, maybe the inner network feature maps react with high activation to the sign's boundary outline or to the contrast in the sign's painted symbol.\n",
    "\n",
    " Provided for you below is the function code that allows you to get the visualization output of any tensorflow weight layer you want. The inputs to the function should be a stimuli image, one used during training or a new one you provided, and then the tensorflow variable name that represents the layer's state during the training process, for instance if you wanted to see what the [LeNet lab's](https://classroom.udacity.com/nanodegrees/nd013/parts/fbf77062-5703-404e-b60c-95b78b2f3f9e/modules/6df7ae49-c61c-4bb2-a23e-6527e69209ec/lessons/601ae704-1035-4287-8b11-e2c2716217ad/concepts/d4aca031-508f-4e0b-b493-e7b706120f81) feature maps looked like for it's second convolutional layer you could enter conv2 as the tf_activation variable.\n",
    "\n",
    "For an example of what feature map outputs look like, check out NVIDIA's results in their paper [End-to-End Deep Learning for Self-Driving Cars](https://devblogs.nvidia.com/parallelforall/deep-learning-self-driving-cars/) in the section Visualization of internal CNN State. NVIDIA was able to show that their network's inner weights had high activations to road boundary lines by comparing feature maps from an image with a clear path to one without. Try experimenting with a similar test to show that your trained network's weights are looking for interesting features, whether it's looking at differences in feature maps from images with or without a sign, or even what feature maps look like in a trained network vs a completely untrained one on the same sign image.\n",
    "\n",
    "<figure>\n",
    " <img src=\"visualize_cnn.png\" width=\"380\" alt=\"Combined Image\" />\n",
    " <figcaption>\n",
    " <p></p> \n",
    " <p style=\"text-align: center;\"> Your output should look something like this (above)</p> \n",
    " </figcaption>\n",
    "</figure>\n",
    " <p></p> \n"
   ]
  },
  {
   "cell_type": "code",
   "execution_count": null,
   "metadata": {
    "collapsed": true
   },
   "outputs": [],
   "source": [
    "### Visualize your network's feature maps here.\n",
    "### Feel free to use as many code cells as needed.\n",
    "\n",
    "# image_input: the test image being fed into the network to produce the feature maps\n",
    "# tf_activation: should be a tf variable name used during your training procedure that represents the calculated state of a specific weight layer\n",
    "# activation_min/max: can be used to view the activation contrast in more detail, by default matplot sets min and max to the actual min and max values of the output\n",
    "# plt_num: used to plot out multiple different weight feature map sets on the same block, just extend the plt number for each new feature map entry\n",
    "\n",
    "def outputFeatureMap(image_input, tf_activation, activation_min=-1, activation_max=-1 ,plt_num=1):\n",
    "    # Here make sure to preprocess your image_input in a way your network expects\n",
    "    # with size, normalization, ect if needed\n",
    "    # image_input =\n",
    "    # Note: x should be the same name as your network's tensorflow data placeholder variable\n",
    "    # If you get an error tf_activation is not defined it maybe having trouble accessing the variable from inside a function\n",
    "    activation = tf_activation.eval(session=sess,feed_dict={x : image_input})\n",
    "    featuremaps = activation.shape[3]\n",
    "    plt.figure(plt_num, figsize=(15,15))\n",
    "    for featuremap in range(featuremaps):\n",
    "        plt.subplot(6,8, featuremap+1) # sets the number of feature maps to show on each row and column\n",
    "        plt.title('FeatureMap ' + str(featuremap)) # displays the feature map number\n",
    "        if activation_min != -1 & activation_max != -1:\n",
    "            plt.imshow(activation[0,:,:, featuremap], interpolation=\"nearest\", vmin =activation_min, vmax=activation_max, cmap=\"gray\")\n",
    "        elif activation_max != -1:\n",
    "            plt.imshow(activation[0,:,:, featuremap], interpolation=\"nearest\", vmax=activation_max, cmap=\"gray\")\n",
    "        elif activation_min !=-1:\n",
    "            plt.imshow(activation[0,:,:, featuremap], interpolation=\"nearest\", vmin=activation_min, cmap=\"gray\")\n",
    "        else:\n",
    "            plt.imshow(activation[0,:,:, featuremap], interpolation=\"nearest\", cmap=\"gray\")"
   ]
  },
  {
   "cell_type": "markdown",
   "metadata": {},
   "source": [
    "### Question 9\n",
    "\n",
    "Discuss how you used the visual output of your trained network's feature maps to show that it had learned to look for interesting characteristics in traffic sign images\n"
   ]
  },
  {
   "cell_type": "markdown",
   "metadata": {},
   "source": [
    "**Answer:**"
   ]
  },
  {
   "cell_type": "markdown",
   "metadata": {},
   "source": [
    "> **Note**: Once you have completed all of the code implementations and successfully answered each question above, you may finalize your work by exporting the iPython Notebook as an HTML document. You can do this by using the menu above and navigating to  \\n\",\n",
    "    \"**File -> Download as -> HTML (.html)**. Include the finished document along with this notebook as your submission."
   ]
  },
  {
   "cell_type": "markdown",
   "metadata": {},
   "source": [
    "### Project Writeup\n",
    "\n",
    "Once you have completed the code implementation, document your results in a project writeup using this [template](https://github.com/udacity/CarND-Traffic-Sign-Classifier-Project/blob/master/writeup_template.md) as a guide. The writeup can be in a markdown or pdf file. "
   ]
  }
 ],
 "metadata": {
  "anaconda-cloud": {},
  "kernelspec": {
   "display_name": "Python 3",
   "language": "python",
   "name": "python3"
  },
  "language_info": {
   "codemirror_mode": {
    "name": "ipython",
    "version": 3
   },
   "file_extension": ".py",
   "mimetype": "text/x-python",
   "name": "python",
   "nbconvert_exporter": "python",
   "pygments_lexer": "ipython3",
   "version": "3.5.2"
  },
  "widgets": {
   "state": {},
   "version": "1.1.2"
  }
 },
 "nbformat": 4,
 "nbformat_minor": 1
}
